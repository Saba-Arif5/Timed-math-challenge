{
  "nbformat": 4,
  "nbformat_minor": 0,
  "metadata": {
    "colab": {
      "provenance": [],
      "authorship_tag": "ABX9TyPuzGAqcQU6yGr+wc2i0zZ0",
      "include_colab_link": true
    },
    "kernelspec": {
      "name": "python3",
      "display_name": "Python 3"
    },
    "language_info": {
      "name": "python"
    }
  },
  "cells": [
    {
      "cell_type": "markdown",
      "metadata": {
        "id": "view-in-github",
        "colab_type": "text"
      },
      "source": [
        "<a href=\"https://colab.research.google.com/github/Saba-Arif5/Timed-math-challenge/blob/main/Timed_Math_challenge.ipynb\" target=\"_parent\"><img src=\"https://colab.research.google.com/assets/colab-badge.svg\" alt=\"Open In Colab\"/></a>"
      ]
    },
    {
      "cell_type": "code",
      "execution_count": 1,
      "metadata": {
        "colab": {
          "base_uri": "https://localhost:8080/"
        },
        "id": "CKEREPzcjxC_",
        "outputId": "b1e22e6a-6dab-4320-8cb3-2091f191c848"
      },
      "outputs": [
        {
          "output_type": "stream",
          "name": "stdout",
          "text": [
            "press enter to start \n",
            "\n",
            "...........................\n",
            "Problem #1: 5-7=-2\n",
            "Problem #2: 4-8=-4\n",
            "...........................\n",
            "\n",
            " nice work \n",
            " you finished in :  10.46 seconds\n"
          ]
        }
      ],
      "source": [
        "import random\n",
        "import time\n",
        "\n",
        "MIN_NUM = 3\n",
        "MAX_NUM= 12\n",
        "OPERATORS = [\"+\", \"-\", \"*\",]\n",
        "TOTAL_PROBLEMS = 10\n",
        "\n",
        "def generate_problem() :\n",
        "  left_num = random.randint(MIN_NUM, MAX_NUM)\n",
        "  right_num = random.randint(MIN_NUM, MAX_NUM)\n",
        "  operator = random.choice(OPERATORS)\n",
        "\n",
        "  exprsn = str(left_num) + operator+ str(right_num)\n",
        "  answer = round(eval(exprsn),2)\n",
        "  return exprsn, answer\n",
        "\n",
        "wrong = 0\n",
        "input(\"press enter to start \\n\")\n",
        "print(\"...........................\")\n",
        "strt_time= time.time()\n",
        "\n",
        "for i in range(TOTAL_PROBLEMS):\n",
        "  exprsn, answer = generate_problem()\n",
        "  while True:\n",
        "   guess=input(\"Problem #\" + str(i+1) +\": \" + exprsn + \"=\")\n",
        "   if guess == str(answer) :\n",
        "    break\n",
        "   wrong += 1\n",
        "end_time= time.time()\n",
        "time_taken = round(end_time - strt_time, 2)\n",
        "print(\"...........................\")\n",
        "print(\"\\n nice work \\n you finished in : \", time_taken, \"seconds\")\n",
        "\n",
        "\n",
        "\n",
        "\n"
      ]
    }
  ]
}